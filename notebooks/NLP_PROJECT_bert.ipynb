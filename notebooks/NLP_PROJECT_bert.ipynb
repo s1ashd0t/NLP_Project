{
  "nbformat": 4,
  "nbformat_minor": 0,
  "metadata": {
    "colab": {
      "provenance": []
    },
    "kernelspec": {
      "name": "python3",
      "display_name": "Python 3"
    },
    "language_info": {
      "name": "python"
    }
  },
  "cells": [
    {
      "cell_type": "markdown",
      "source": [
        "import Libraries"
      ],
      "metadata": {
        "id": "NzaVUJWfFAYd"
      }
    },
    {
      "cell_type": "code",
      "execution_count": 104,
      "metadata": {
        "colab": {
          "base_uri": "https://localhost:8080/"
        },
        "id": "k-YvQAzK1PTA",
        "outputId": "def5ed65-5348-48f2-ecdd-7957c7488129"
      },
      "outputs": [
        {
          "output_type": "stream",
          "name": "stderr",
          "text": [
            "/usr/local/lib/python3.10/dist-packages/transformers/tokenization_utils_base.py:1601: FutureWarning: `clean_up_tokenization_spaces` was not set. It will be set to `True` by default. This behavior will be depracted in transformers v4.45, and will be then set to `False` by default. For more details check this issue: https://github.com/huggingface/transformers/issues/31884\n",
            "  warnings.warn(\n"
          ]
        },
        {
          "output_type": "stream",
          "name": "stdout",
          "text": [
            "Accuracy: 89.00%\n"
          ]
        }
      ],
      "source": [
        "from transformers import BertTokenizer, BertForSequenceClassification\n",
        "from transformers import pipeline\n",
        "import pandas as pd\n",
        "\n"
      ]
    },
    {
      "cell_type": "markdown",
      "source": [
        "Load finbert Model"
      ],
      "metadata": {
        "id": "NwFQaDk6FGtK"
      }
    },
    {
      "cell_type": "code",
      "source": [
        "model_name = \"ProsusAI/finbert\"\n",
        "tokenizer = BertTokenizer.from_pretrained(model_name)\n",
        "model = BertForSequenceClassification.from_pretrained(model_name)\n",
        "\n",
        "nlp = pipeline(\"sentiment-analysis\", model=model, tokenizer=tokenizer)\n",
        "\n",
        "print(\"MOdel Loaded!\")\n"
      ],
      "metadata": {
        "id": "CRqN2N9aEyih"
      },
      "execution_count": null,
      "outputs": []
    },
    {
      "cell_type": "markdown",
      "source": [
        "Find Accuarcy on a test dataset"
      ],
      "metadata": {
        "id": "savlXtusFSYq"
      }
    },
    {
      "cell_type": "code",
      "source": [
        "df = pd.read_csv('all-data.csv', encoding='cp1252', names=['sentiment', 'news'])\n",
        "\n",
        "df2 = df[:100]\n",
        "\n",
        "accuracy = 0\n",
        "\n",
        "for _, row in df2.iterrows():\n",
        "    text = row['news']\n",
        "    sentiment = nlp(text)[0]['label']\n",
        "    if sentiment == row['sentiment']:\n",
        "        accuracy += 1\n",
        "\n",
        "accuracy /= len(df2)\n",
        "print(f\"Accuracy: {accuracy * 100:.2f}%\")"
      ],
      "metadata": {
        "id": "WSjcF4i8E15s"
      },
      "execution_count": null,
      "outputs": []
    }
  ]
}